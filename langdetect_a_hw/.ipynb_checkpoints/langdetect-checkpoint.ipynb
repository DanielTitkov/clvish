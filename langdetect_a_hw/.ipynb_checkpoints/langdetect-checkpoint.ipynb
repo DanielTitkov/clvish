{
 "cells": [
  {
   "cell_type": "markdown",
   "metadata": {},
   "source": [
    "# Автоматическое определение языка \n",
    "# для языков с идентичными алфавитами"
   ]
  },
  {
   "cell_type": "markdown",
   "metadata": {},
   "source": [
    "#### Титков Даниил\n",
    "#### 10.12.17\n",
    "#### МКЛ171"
   ]
  },
  {
   "cell_type": "markdown",
   "metadata": {},
   "source": [
    "## Введение"
   ]
  },
  {
   "cell_type": "markdown",
   "metadata": {},
   "source": [
    "Судя по информации об алфавитах языков, приведенной в [статье](https://en.wikipedia.org/wiki/Wikipedia:Language_recognition_chart) Википедии, языков, алфавиты которых полностью идентичны, совсем немного. Даже те языки, которые пользуются одной системой письменности, например, латиницей, как правило, имеют уникальных набор букв с диакритиками. Из этого следует, что для таких языков задача определения языка сильно упрощается и сводится к поиску характерных символов. "
   ]
  },
  {
   "cell_type": "markdown",
   "metadata": {},
   "source": [
    "Более интересной представляется задача определения языка в том случае, когда алфавит (с учетом диакритических знаков) не может быть различительным признаком. В таком случае, видимо, в качестве признаков будут выступать характерные буквосочетания, высокочастотные морфемы, служебные слова."
   ]
  },
  {
   "cell_type": "code",
   "execution_count": 559,
   "metadata": {},
   "outputs": [],
   "source": [
    "import re\n",
    "import wikipedia as wk\n",
    "import pandas as pd\n",
    "import numpy as np\n",
    "from wikipedia import DisambiguationError, PageError\n",
    "from tqdm import tqdm # progress-bar\n",
    "import seaborn as sns\n",
    "from sklearn.feature_extraction.text import CountVectorizer\n",
    "from sklearn.ensemble import RandomForestClassifier\n",
    "from sklearn.naive_bayes import MultinomialNB\n",
    "from sklearn.linear_model import LogisticRegression\n",
    "from sklearn import metrics\n",
    "from sklearn.model_selection import train_test_split\n",
    "import matplotlib.pyplot as plt\n",
    "from unidecode import unidecode\n",
    "\n",
    "from jupyterthemes import jtplot #внешний вид ноутбука и графиков\n",
    "jtplot.style(theme='onedork')\n",
    "%matplotlib inline"
   ]
  },
  {
   "cell_type": "markdown",
   "metadata": {},
   "source": [
    "## Download Wikipedia articles"
   ]
  },
  {
   "cell_type": "markdown",
   "metadata": {},
   "source": [
    "Определим функцию для скачивания случайных статей из Википедии для заданного языка. Также определим функцию для очистки текстов от небуквенных символов"
   ]
  },
  {
   "cell_type": "code",
   "execution_count": 560,
   "metadata": {},
   "outputs": [],
   "source": [
    "def cleanse(s, rgxp = '[\\W\\d]'):\n",
    "    return re.sub(' +', ' ', re.sub(rgxp, ' ', s.lower()))"
   ]
  },
  {
   "cell_type": "code",
   "execution_count": 561,
   "metadata": {},
   "outputs": [],
   "source": [
    "def get_random_pages(langs, n):\n",
    "    dropped = 0\n",
    "    articles = {'lang':[], 'content':[], 'url':[], 'title':[]}\n",
    "    for lang in langs: \n",
    "        wk.set_lang(lang)\n",
    "        for i in tqdm(range(n), desc=lang):\n",
    "            try:\n",
    "                article = wk.page(wk.random(pages=1))\n",
    "                articles['content'].append(article.content)\n",
    "                articles['lang'].append(lang)\n",
    "                articles['url'].append(article.url)\n",
    "                articles['title'].append(article.title)\n",
    "            except (DisambiguationError, PageError) as error:\n",
    "                dropped += 1\n",
    "                continue\n",
    "    print('{:.2%} запросов пропущено'.format(dropped/(len(langs)*n)))\n",
    "    return articles"
   ]
  },
  {
   "cell_type": "markdown",
   "metadata": {},
   "source": [
    "На основании данной статьи https://en.wikipedia.org/wiki/Wikipedia:Language_recognition_chart выберем языки с одинаковыми алфавитами. К сожалению, языков, алфавиты которых полностью идентичны, совсем немного. В частности, для латиницы это английский, латинский, малайский, зулу и суалихи. При этом статей на зулу и суахили в Википедии совсем мало, и многие из них пустые, так что нет смысла использовать эти языки. В качестве альтернативы можно использовать языки, которые отличаются от других только диакритиками и т.д., предварительно преобразовав буквы с диакритиками в обычные буквы. Для интереса возьмем в том числе испанский и португальский языки, которые очень похожи."
   ]
  },
  {
   "cell_type": "code",
   "execution_count": 562,
   "metadata": {},
   "outputs": [
    {
     "name": "stdout",
     "output_type": "stream",
     "text": [
      "6 языков, по 300 статей. Примерное время скачивания - 7.5e+01 минут\n"
     ]
    }
   ],
   "source": [
    "langs = sorted(['en', 'la', 'ms', 'pt', 'es', 'fr'])\n",
    "n = 300\n",
    "print('{} языков, по {} статей. Примерное время скачивания - {:.2} минут'\n",
    "      .format(len(langs), n, n*len(langs)*2.5/60))   "
   ]
  },
  {
   "cell_type": "markdown",
   "metadata": {},
   "source": [
    "Проверим, что алфавиты в выбранных языках действительно одинаковые. Вопользуемся библиотекой **unidecode**, чтобы избавиться от букв с диакритиками и символов IPA, которые могут встречаться в статьях. "
   ]
  },
  {
   "cell_type": "code",
   "execution_count": 446,
   "metadata": {},
   "outputs": [],
   "source": [
    "def get_alphabet(text):\n",
    "    chars = []\n",
    "    for char in cleanse(text, rgxp='[\\W\\d\\s]'):\n",
    "        chars += char.replace(' ','')\n",
    "    return ''.join(sorted(set(chars)))"
   ]
  },
  {
   "cell_type": "code",
   "execution_count": 354,
   "metadata": {},
   "outputs": [
    {
     "name": "stderr",
     "output_type": "stream",
     "text": [
      "100%|████████████████████████████████████████████████████████████████████████████████████| 6/6 [00:15<00:00,  2.56s/it]\n"
     ]
    }
   ],
   "source": [
    "examples = []\n",
    "for lang in tqdm(langs):\n",
    "    wk.set_lang(lang)\n",
    "    examples.append(wk.page(\"Wikipedia\").content)"
   ]
  },
  {
   "cell_type": "code",
   "execution_count": 355,
   "metadata": {},
   "outputs": [],
   "source": [
    "alphabets = []\n",
    "for text in examples:\n",
    "    alphabets.append(get_alphabet(unidecode(text)))"
   ]
  },
  {
   "cell_type": "code",
   "execution_count": 447,
   "metadata": {},
   "outputs": [
    {
     "name": "stdout",
     "output_type": "stream",
     "text": [
      "    en     es     fr     la     ms     pt\n",
      "en  True   True   True   True   True   True  \n",
      "es  True   True   True   True   True   True  \n",
      "fr  True   True   True   True   True   True  \n",
      "la  True   True   True   True   True   True  \n",
      "ms  True   True   True   True   True   True  \n",
      "pt  True   True   True   True   True   True  \n"
     ]
    }
   ],
   "source": [
    "alp = list(zip(langs, alphabets))\n",
    "print((' '*3), (' '*5).join(langs))\n",
    "for i in alp:\n",
    "    l = [str(i[1] == b[1])+'  ' if (i[1] == b[1]) else str(i[1] == b[1])+' ' for b in alp]\n",
    "    print('{}  {}'.format(i[0][:2], ' '.join(l)))"
   ]
  },
  {
   "cell_type": "markdown",
   "metadata": {},
   "source": [
    "Скачаем и сохраним статьи (названия, тексты и url статей) в файл, так как процесс скачивания занимает много времени. "
   ]
  },
  {
   "cell_type": "code",
   "execution_count": 521,
   "metadata": {},
   "outputs": [
    {
     "name": "stdout",
     "output_type": "stream",
     "text": [
      "Wall time: 109 ms\n"
     ]
    }
   ],
   "source": [
    "%%time\n",
    "try: \n",
    "    data_raw = pd.read_csv('data_raw.csv').drop(['Unnamed: 0'], axis=1)\n",
    "except FileNotFoundError: \n",
    "    pd.DataFrame.from_dict(get_random_pages(langs=langs, n=n)).to_csv('data_raw.csv',encoding='utf=8')\n",
    "    data_raw = pd.read_csv('data_raw.csv').drop(['Unnamed: 0'], axis=1)"
   ]
  },
  {
   "cell_type": "code",
   "execution_count": 522,
   "metadata": {},
   "outputs": [
    {
     "data": {
      "text/plain": [
       "(1729, 4)"
      ]
     },
     "execution_count": 522,
     "metadata": {},
     "output_type": "execute_result"
    }
   ],
   "source": [
    "data_raw.shape"
   ]
  },
  {
   "cell_type": "code",
   "execution_count": 525,
   "metadata": {},
   "outputs": [
    {
     "data": {
      "text/html": [
       "<div>\n",
       "<style>\n",
       "    .dataframe thead tr:only-child th {\n",
       "        text-align: right;\n",
       "    }\n",
       "\n",
       "    .dataframe thead th {\n",
       "        text-align: left;\n",
       "    }\n",
       "\n",
       "    .dataframe tbody tr th {\n",
       "        vertical-align: top;\n",
       "    }\n",
       "</style>\n",
       "<table border=\"1\" class=\"dataframe\">\n",
       "  <thead>\n",
       "    <tr style=\"text-align: right;\">\n",
       "      <th></th>\n",
       "      <th>content</th>\n",
       "      <th>lang</th>\n",
       "      <th>title</th>\n",
       "      <th>url</th>\n",
       "    </tr>\n",
       "  </thead>\n",
       "  <tbody>\n",
       "    <tr>\n",
       "      <th>0</th>\n",
       "      <td>James Masterson (September 18, 1855 – March 31...</td>\n",
       "      <td>en</td>\n",
       "      <td>James Masterson</td>\n",
       "      <td>https://en.wikipedia.org/wiki/James_Masterson</td>\n",
       "    </tr>\n",
       "    <tr>\n",
       "      <th>1</th>\n",
       "      <td>John Osterlind (born 10 March 1967) is an Amer...</td>\n",
       "      <td>en</td>\n",
       "      <td>John Osterlind</td>\n",
       "      <td>https://en.wikipedia.org/wiki/John_Osterlind</td>\n",
       "    </tr>\n",
       "    <tr>\n",
       "      <th>2</th>\n",
       "      <td>Klax is a 1989 puzzle video game designed by D...</td>\n",
       "      <td>en</td>\n",
       "      <td>Klax (video game)</td>\n",
       "      <td>https://en.wikipedia.org/wiki/Klax_(video_game)</td>\n",
       "    </tr>\n",
       "  </tbody>\n",
       "</table>\n",
       "</div>"
      ],
      "text/plain": [
       "                                             content lang              title  \\\n",
       "0  James Masterson (September 18, 1855 – March 31...   en    James Masterson   \n",
       "1  John Osterlind (born 10 March 1967) is an Amer...   en     John Osterlind   \n",
       "2  Klax is a 1989 puzzle video game designed by D...   en  Klax (video game)   \n",
       "\n",
       "                                               url  \n",
       "0    https://en.wikipedia.org/wiki/James_Masterson  \n",
       "1     https://en.wikipedia.org/wiki/John_Osterlind  \n",
       "2  https://en.wikipedia.org/wiki/Klax_(video_game)  "
      ]
     },
     "execution_count": 525,
     "metadata": {},
     "output_type": "execute_result"
    }
   ],
   "source": [
    "data_raw.head(3)"
   ]
  },
  {
   "cell_type": "code",
   "execution_count": 526,
   "metadata": {},
   "outputs": [
    {
     "data": {
      "text/html": [
       "<div>\n",
       "<style>\n",
       "    .dataframe thead tr:only-child th {\n",
       "        text-align: right;\n",
       "    }\n",
       "\n",
       "    .dataframe thead th {\n",
       "        text-align: left;\n",
       "    }\n",
       "\n",
       "    .dataframe tbody tr th {\n",
       "        vertical-align: top;\n",
       "    }\n",
       "</style>\n",
       "<table border=\"1\" class=\"dataframe\">\n",
       "  <thead>\n",
       "    <tr style=\"text-align: right;\">\n",
       "      <th></th>\n",
       "      <th>content</th>\n",
       "      <th>lang</th>\n",
       "      <th>title</th>\n",
       "      <th>url</th>\n",
       "    </tr>\n",
       "  </thead>\n",
       "  <tbody>\n",
       "    <tr>\n",
       "      <th>1726</th>\n",
       "      <td>2000 SW87 (asteroide 34455) é um asteroide da ...</td>\n",
       "      <td>pt</td>\n",
       "      <td>34455 2000 SW87</td>\n",
       "      <td>https://pt.wikipedia.org/wiki/34455_2000_SW87</td>\n",
       "    </tr>\n",
       "    <tr>\n",
       "      <th>1727</th>\n",
       "      <td>Nicolás Gabriel Albarracín Basil (Montevidéu, ...</td>\n",
       "      <td>pt</td>\n",
       "      <td>Nicolás Albarracín</td>\n",
       "      <td>https://pt.wikipedia.org/wiki/Nicol%C3%A1s_Alb...</td>\n",
       "    </tr>\n",
       "    <tr>\n",
       "      <th>1728</th>\n",
       "      <td>The Un-Americans (originalmente conhecidos com...</td>\n",
       "      <td>pt</td>\n",
       "      <td>The Un-Americans</td>\n",
       "      <td>https://pt.wikipedia.org/wiki/The_Un-Americans</td>\n",
       "    </tr>\n",
       "  </tbody>\n",
       "</table>\n",
       "</div>"
      ],
      "text/plain": [
       "                                                content lang  \\\n",
       "1726  2000 SW87 (asteroide 34455) é um asteroide da ...   pt   \n",
       "1727  Nicolás Gabriel Albarracín Basil (Montevidéu, ...   pt   \n",
       "1728  The Un-Americans (originalmente conhecidos com...   pt   \n",
       "\n",
       "                   title                                                url  \n",
       "1726     34455 2000 SW87      https://pt.wikipedia.org/wiki/34455_2000_SW87  \n",
       "1727  Nicolás Albarracín  https://pt.wikipedia.org/wiki/Nicol%C3%A1s_Alb...  \n",
       "1728    The Un-Americans     https://pt.wikipedia.org/wiki/The_Un-Americans  "
      ]
     },
     "execution_count": 526,
     "metadata": {},
     "output_type": "execute_result"
    }
   ],
   "source": [
    "data_raw.tail(3)"
   ]
  },
  {
   "cell_type": "code",
   "execution_count": 527,
   "metadata": {},
   "outputs": [
    {
     "data": {
      "text/html": [
       "<div>\n",
       "<style>\n",
       "    .dataframe thead tr:only-child th {\n",
       "        text-align: right;\n",
       "    }\n",
       "\n",
       "    .dataframe thead th {\n",
       "        text-align: left;\n",
       "    }\n",
       "\n",
       "    .dataframe tbody tr th {\n",
       "        vertical-align: top;\n",
       "    }\n",
       "</style>\n",
       "<table border=\"1\" class=\"dataframe\">\n",
       "  <thead>\n",
       "    <tr style=\"text-align: right;\">\n",
       "      <th></th>\n",
       "      <th>content</th>\n",
       "      <th>title</th>\n",
       "      <th>url</th>\n",
       "    </tr>\n",
       "    <tr>\n",
       "      <th>lang</th>\n",
       "      <th></th>\n",
       "      <th></th>\n",
       "      <th></th>\n",
       "    </tr>\n",
       "  </thead>\n",
       "  <tbody>\n",
       "    <tr>\n",
       "      <th>en</th>\n",
       "      <td>284</td>\n",
       "      <td>284</td>\n",
       "      <td>284</td>\n",
       "    </tr>\n",
       "    <tr>\n",
       "      <th>es</th>\n",
       "      <td>284</td>\n",
       "      <td>284</td>\n",
       "      <td>284</td>\n",
       "    </tr>\n",
       "    <tr>\n",
       "      <th>fr</th>\n",
       "      <td>281</td>\n",
       "      <td>281</td>\n",
       "      <td>281</td>\n",
       "    </tr>\n",
       "    <tr>\n",
       "      <th>la</th>\n",
       "      <td>295</td>\n",
       "      <td>295</td>\n",
       "      <td>295</td>\n",
       "    </tr>\n",
       "    <tr>\n",
       "      <th>ms</th>\n",
       "      <td>297</td>\n",
       "      <td>297</td>\n",
       "      <td>297</td>\n",
       "    </tr>\n",
       "    <tr>\n",
       "      <th>pt</th>\n",
       "      <td>288</td>\n",
       "      <td>288</td>\n",
       "      <td>288</td>\n",
       "    </tr>\n",
       "  </tbody>\n",
       "</table>\n",
       "</div>"
      ],
      "text/plain": [
       "      content  title  url\n",
       "lang                     \n",
       "en        284    284  284\n",
       "es        284    284  284\n",
       "fr        281    281  281\n",
       "la        295    295  295\n",
       "ms        297    297  297\n",
       "pt        288    288  288"
      ]
     },
     "execution_count": 527,
     "metadata": {},
     "output_type": "execute_result"
    }
   ],
   "source": [
    "data_raw.groupby('lang').count()"
   ]
  },
  {
   "cell_type": "code",
   "execution_count": 528,
   "metadata": {},
   "outputs": [],
   "source": [
    "data_raw.dropna(how='any', inplace=True)"
   ]
  },
  {
   "cell_type": "markdown",
   "metadata": {},
   "source": [
    "## Data preprocessing"
   ]
  },
  {
   "cell_type": "markdown",
   "metadata": {},
   "source": [
    "С помощью ранее определенной функции **cleanse** очистим тексты от небуквенных символов. Так как в дальнейшем предполагается работать с буквенными н-граммами, а окончания могут быть характерными признаками языка, лемматизация или стемминг не используется. Также избавимся от unicode-символов с помощью **unidecode**. "
   ]
  },
  {
   "cell_type": "code",
   "execution_count": 529,
   "metadata": {},
   "outputs": [
    {
     "name": "stderr",
     "output_type": "stream",
     "text": [
      "Cleanse: 100%|███████████████████████████████████████████████████████████████████| 1729/1729 [00:00<00:00, 2212.90it/s]\n",
      "Unidecode: 100%|█████████████████████████████████████████████████████████████████| 1729/1729 [00:01<00:00, 1475.26it/s]\n"
     ]
    },
    {
     "name": "stdout",
     "output_type": "stream",
     "text": [
      "Wall time: 2 s\n"
     ]
    }
   ],
   "source": [
    "%%time\n",
    "data = data_raw.copy()\n",
    "tqdm.pandas(desc=\"Cleanse\")\n",
    "data.content = data.content.progress_apply(cleanse)\n",
    "tqdm.pandas(desc=\"Unidecode\")\n",
    "data.content = data.content.progress_apply(unidecode)"
   ]
  },
  {
   "cell_type": "markdown",
   "metadata": {},
   "source": [
    "Посмотрим на получившийся результат"
   ]
  },
  {
   "cell_type": "code",
   "execution_count": 530,
   "metadata": {},
   "outputs": [
    {
     "data": {
      "text/plain": [
       "'john osterlind born march is an american radio broadcaster osterlind was born in norwalk connecticut he graduated from roger ludlowe high school in fairfield connecticut in and from dean jr college in franklin massachusetts in where he was on their college station fm wgao he was on air overnights on then classic rock station fm wwrx in providence rhode island from to he was on air in evenings and afternoons on rock station wccc fm in hartford connecticut from to in evenings on rock station waaf '"
      ]
     },
     "execution_count": 530,
     "metadata": {},
     "output_type": "execute_result"
    }
   ],
   "source": [
    "data.content[1][:500]"
   ]
  },
  {
   "cell_type": "code",
   "execution_count": 531,
   "metadata": {},
   "outputs": [
    {
     "data": {
      "text/plain": [
       "'montevitozzo is a village in tuscany central italy administratively a frazione of the comune of sorano province of grosseto in the tuff area of southern maremma at the time of the census its population amounted to geography montevitozzo is about km from grosseto and km from sorano and it is situated along the provincial road which links sorano to castell azzara the territory of montevitozzo is composed also by the hamlets of casa della fonte casella cerretino le capannelle le porcarecce il poggi'"
      ]
     },
     "execution_count": 531,
     "metadata": {},
     "output_type": "execute_result"
    }
   ],
   "source": [
    "data.content[150][:500]"
   ]
  },
  {
   "cell_type": "code",
   "execution_count": 532,
   "metadata": {},
   "outputs": [],
   "source": [
    "text_train, text_test, lang_train, lang_test = train_test_split(data.content, \n",
    "                                                                data.lang, \n",
    "                                                                test_size=0.33, \n",
    "                                                                random_state=1)"
   ]
  },
  {
   "cell_type": "code",
   "execution_count": 533,
   "metadata": {},
   "outputs": [
    {
     "name": "stdout",
     "output_type": "stream",
     "text": [
      "Обучающая выборка: 1158 текстов\n"
     ]
    },
    {
     "data": {
      "text/plain": [
       "1617    dourados esporte clube foi um clube brasileiro...\n",
       "1177    buhl lorraine ialah komun di jabatan moselle d...\n",
       "239     new woodville is a town in marshall county okl...\n",
       "Name: content, dtype: object"
      ]
     },
     "execution_count": 533,
     "metadata": {},
     "output_type": "execute_result"
    }
   ],
   "source": [
    "print('Обучающая выборка: {} текстов'.format(len(text_train)))\n",
    "text_train.head(3)"
   ]
  },
  {
   "cell_type": "code",
   "execution_count": 534,
   "metadata": {},
   "outputs": [
    {
     "name": "stdout",
     "output_type": "stream",
     "text": [
      "Тестовая выборка: 571 текстов\n"
     ]
    },
    {
     "data": {
      "text/plain": [
       "1233    campodolcino merupakan sebuah komune yang terl...\n",
       "592     sainte colombe de villeneuve est une commune d...\n",
       "625     ermentar de noirmoutier egalement appele ermen...\n",
       "Name: content, dtype: object"
      ]
     },
     "execution_count": 534,
     "metadata": {},
     "output_type": "execute_result"
    }
   ],
   "source": [
    "print('Тестовая выборка: {} текстов'.format(len(text_test)))\n",
    "text_test.head(3)"
   ]
  },
  {
   "cell_type": "markdown",
   "metadata": {},
   "source": [
    "## Векторизация текстов"
   ]
  },
  {
   "cell_type": "markdown",
   "metadata": {},
   "source": [
    "Для того, чтобы к текстам можно было применять алгоритмы машинного обучения, они должны быть представлены в виде числовых векторов. Для преобразования текстов в векторы используем **CountVectorizer** из пакета **sklearn**. В результате этого получим матрицу тексты\\*признаки, где признаки - триграммы, а в ячейках матрицы - количество вхождений данной триграммы в данный текст. "
   ]
  },
  {
   "cell_type": "code",
   "execution_count": 535,
   "metadata": {},
   "outputs": [],
   "source": [
    "vectorizer = CountVectorizer(ngram_range=(3,3),\n",
    "                             lowercase=True,\n",
    "                             analyzer = 'char', \n",
    "                             min_df = 3, \n",
    "                             max_df = 1.0)"
   ]
  },
  {
   "cell_type": "code",
   "execution_count": 536,
   "metadata": {},
   "outputs": [
    {
     "name": "stdout",
     "output_type": "stream",
     "text": [
      "Wall time: 2.28 s\n"
     ]
    }
   ],
   "source": [
    "%%time\n",
    "data_train = vectorizer.fit_transform(text_train)\n",
    "data_test = vectorizer.transform(text_test)"
   ]
  },
  {
   "cell_type": "code",
   "execution_count": 537,
   "metadata": {},
   "outputs": [
    {
     "name": "stdout",
     "output_type": "stream",
     "text": [
      "1158 наблюдений, 6637 признаков\n"
     ]
    }
   ],
   "source": [
    "print('{} наблюдений, {} признаков'.format(data_train.shape[0], data_train.shape[1]))"
   ]
  },
  {
   "cell_type": "code",
   "execution_count": 538,
   "metadata": {},
   "outputs": [
    {
     "name": "stdout",
     "output_type": "stream",
     "text": [
      "Всего вошло нграмм: 6637\n"
     ]
    },
    {
     "data": {
      "text/plain": [
       "array(['omy', ' uo', 'tt ', ' oc', 'aiu', 'gow', 'lyu', 'fig', 'bid',\n",
       "       'tau', 'roo', ' ze', 'one', 'vie', 'eli', 'u h', 'tyn', 'v w',\n",
       "       'mph', 'gru'],\n",
       "      dtype='<U3')"
      ]
     },
     "execution_count": 538,
     "metadata": {},
     "output_type": "execute_result"
    }
   ],
   "source": [
    "print('Всего вошло нграмм:', data_train.shape[1])\n",
    "np.array(vectorizer.get_feature_names()\n",
    ")[np.random.randint(0, len(vectorizer.get_feature_names()), 20)]"
   ]
  },
  {
   "cell_type": "code",
   "execution_count": 539,
   "metadata": {},
   "outputs": [
    {
     "name": "stdout",
     "output_type": "stream",
     "text": [
      "Всего исключенных нграмм: 2666\n"
     ]
    },
    {
     "data": {
      "text/plain": [
       "array(['fto', 'gbt', 'vny', 'guj', 'ocs', 'beo', '_as', 'fdm', \"n' \",\n",
       "       'ihm', 'enx', 'efx', 'omj', 'dyt', '[?]', 'nph', 'xau', \"l'i\",\n",
       "       'fw ', 'muq'],\n",
       "      dtype='<U3')"
      ]
     },
     "execution_count": 539,
     "metadata": {},
     "output_type": "execute_result"
    }
   ],
   "source": [
    "print('Всего исключенных нграмм:', len(vectorizer.stop_words_))\n",
    "np.array(list(vectorizer.stop_words_))[np.random.randint(0, len(vectorizer.stop_words_), 20)]"
   ]
  },
  {
   "cell_type": "markdown",
   "metadata": {},
   "source": [
    "## Baseline decision"
   ]
  },
  {
   "cell_type": "code",
   "execution_count": 540,
   "metadata": {},
   "outputs": [],
   "source": [
    "def evaluate(y_true, y_pred):\n",
    "    print(\"Accuracy: \", metrics.accuracy_score(y_true, y_pred), \"\\n\")\n",
    "    print(metrics.classification_report(y_true, y_pred))"
   ]
  },
  {
   "cell_type": "code",
   "execution_count": 546,
   "metadata": {},
   "outputs": [
    {
     "name": "stdout",
     "output_type": "stream",
     "text": [
      "Wall time: 2.3 s\n"
     ]
    }
   ],
   "source": [
    "%%time\n",
    "logreg = LogisticRegression(multi_class='multinomial', solver='saga') \n",
    "logreg = LogisticRegression() \n",
    "logreg.fit(data_train, lang_train)"
   ]
  },
  {
   "cell_type": "code",
   "execution_count": 547,
   "metadata": {},
   "outputs": [
    {
     "name": "stdout",
     "output_type": "stream",
     "text": [
      "TRAINING SAMPLE:\n",
      "Accuracy:  1.0 \n",
      "\n",
      "             precision    recall  f1-score   support\n",
      "\n",
      "         en       1.00      1.00      1.00       195\n",
      "         es       1.00      1.00      1.00       191\n",
      "         fr       1.00      1.00      1.00       179\n",
      "         la       1.00      1.00      1.00       203\n",
      "         ms       1.00      1.00      1.00       196\n",
      "         pt       1.00      1.00      1.00       194\n",
      "\n",
      "avg / total       1.00      1.00      1.00      1158\n",
      "\n",
      "TEST SAMPLE:\n",
      "Accuracy:  0.989492119089 \n",
      "\n",
      "             precision    recall  f1-score   support\n",
      "\n",
      "         en       0.99      0.97      0.98        89\n",
      "         es       0.98      0.99      0.98        93\n",
      "         fr       0.98      1.00      0.99       102\n",
      "         la       0.99      1.00      0.99        92\n",
      "         ms       1.00      1.00      1.00       101\n",
      "         pt       1.00      0.98      0.99        94\n",
      "\n",
      "avg / total       0.99      0.99      0.99       571\n",
      "\n"
     ]
    }
   ],
   "source": [
    "print('TRAINING SAMPLE:')\n",
    "train_pred = logreg.predict(data_train)\n",
    "evaluate(lang_train, train_pred)\n",
    "\n",
    "print('TEST SAMPLE:')\n",
    "test_pred = logreg.predict(data_test)\n",
    "evaluate(lang_test, test_pred)"
   ]
  },
  {
   "cell_type": "markdown",
   "metadata": {},
   "source": [
    "Посмотрим, какие признаки (н-граммы) оказались наиболее значимыми для каждого языка. Выведем список предикторов с наибольшими коэффициентами для всех языков."
   ]
  },
  {
   "cell_type": "code",
   "execution_count": 558,
   "metadata": {},
   "outputs": [
    {
     "name": "stdout",
     "output_type": "stream",
     "text": [
      "For \"en\"\n",
      "he    0.33\n",
      " is   0.33\n",
      "s a   0.3\n",
      "the   0.29\n",
      " a    0.28\n",
      "of    0.27\n",
      "\n",
      "For \"es\"\n",
      " en   0.44\n",
      "el    0.3\n",
      "on    0.29\n",
      "cio   0.27\n",
      " el   0.25\n",
      "s u   0.25\n",
      "\n",
      "For \"fr\"\n",
      "il    0.3\n",
      "tai   0.26\n",
      "e d   0.23\n",
      "ail   0.23\n",
      "ort   0.23\n",
      "le    0.21\n",
      "\n",
      "For \"la\"\n",
      "us    0.48\n",
      "ae    0.4\n",
      "um    0.24\n",
      "st    0.18\n",
      "tur   0.18\n",
      "rae   0.17\n",
      "\n",
      "For \"ms\"\n",
      "an    0.45\n",
      "ah    0.36\n",
      "di    0.27\n",
      " se   0.25\n",
      " di   0.22\n",
      "kan   0.19\n",
      "\n",
      "For \"pt\"\n",
      " e    0.61\n",
      " um   0.51\n",
      "e u   0.36\n",
      "da    0.33\n",
      "ao    0.33\n",
      "o d   0.33\n",
      "\n"
     ]
    }
   ],
   "source": [
    "n = 6\n",
    "for lang in langs: \n",
    "    i = langs.index(lang)\n",
    "    print('For \"{}\"'.format(lang))\n",
    "    for y in sorted(list(zip(logreg.coef_[i], vectorizer.get_feature_names())), reverse=True)[0:n]:\n",
    "        print('{}   {:.2}'.format(y[1], y[0]))\n",
    "#     for x in sorted(list(zip(logreg.coef_[i], vectorizer.get_feature_names())))[0:n]:\n",
    "#         print('{}   {:.2}'.format(x[1], x[0]))\n",
    "    print()"
   ]
  },
  {
   "cell_type": "markdown",
   "metadata": {},
   "source": [
    "Глядя на полученные результаты для, например, английского языка, можно сразу узнать одни из самых распространенных слов этого языка - *the*, *he*, *is*. Триграмма *s_a*, видимо, обнаруживается, когда за глаголом в третьем лице следует существительное с неопределенным артиклем (например, как в  *she take**s a** cup*)."
   ]
  },
  {
   "cell_type": "markdown",
   "metadata": {},
   "source": [
    "Для латыни, судя по всему, наиболее значимыми предикторами оказались характерные окончания слов: *us*, *ae*, *um*. Для португальского - союз *e* и некоторые артикли. "
   ]
  },
  {
   "cell_type": "markdown",
   "metadata": {},
   "source": [
    "Для содержательной интерпретации результатов по другим языкам мне не хватает знания этих языков, но представляется, что полученные результаты можно обобщить следующим образом: в ситуации полной идентичности алфавитов, самыми сильными признаками для определения языка выступают, в первую очередь, те элементы текстов, которые относятся к грамматике и синтаксису - характерные аффиксы, союзы, предлоги, артикли. "
   ]
  },
  {
   "cell_type": "code",
   "execution_count": null,
   "metadata": {},
   "outputs": [],
   "source": []
  },
  {
   "cell_type": "code",
   "execution_count": 474,
   "metadata": {},
   "outputs": [
    {
     "name": "stdout",
     "output_type": "stream",
     "text": [
      "565 текстов (98.95%) классифицировано правильно\n"
     ]
    }
   ],
   "source": [
    "mat = metrics.confusion_matrix(lang_test, test_pred) # [5]\n",
    "correct = mat.diagonal().sum()\n",
    "print('{} текстов ({:.2%}) классифицировано правильно'.format(correct, correct/len(lang_test)))"
   ]
  },
  {
   "cell_type": "code",
   "execution_count": 475,
   "metadata": {},
   "outputs": [
    {
     "data": {
      "image/png": "[encoded data removed]",
      "text/plain": [
       "<matplotlib.figure.Figure at 0x23be4bf3748>"
      ]
     },
     "metadata": {},
     "output_type": "display_data"
    }
   ],
   "source": [
    "sns.set_context(\"talk\")\n",
    "plt.figure(figsize=(7,7))\n",
    "sns.heatmap(mat.T, square=True, annot=True, fmt='d', cbar=False, \n",
    "            cmap='viridis',\n",
    "            xticklabels=sorted(langs),\n",
    "            yticklabels=sorted(langs))\n",
    "plt.xlabel('Истинный язык')\n",
    "plt.ylabel('Предсказанный язык')\n",
    "plt.title(('Матрица ошибок'), fontsize=14, fontweight='bold');"
   ]
  },
  {
   "cell_type": "markdown",
   "metadata": {},
   "source": [
    "Видим, что качество классификации очень высоко, когда мы используем полные тексты статей из тестовой выборки."
   ]
  },
  {
   "cell_type": "markdown",
   "metadata": {},
   "source": [
    "## Длина текстов"
   ]
  },
  {
   "cell_type": "markdown",
   "metadata": {},
   "source": [
    "Следующий вопрос - насколько длинным должен быть текст для определения языка? Сколько букв достаточно?"
   ]
  },
  {
   "cell_type": "code",
   "execution_count": 476,
   "metadata": {},
   "outputs": [
    {
     "name": "stdout",
     "output_type": "stream",
     "text": [
      "Wall time: 31.3 s\n"
     ]
    }
   ],
   "source": [
    "%%time\n",
    "%%capture\n",
    "f1, recall, prec = [], [], []\n",
    "lens = list(range(2, 350))\n",
    "for i in lens:\n",
    "    text_trunc, data_trunc = [], []\n",
    "    text_trunc = [x[:i] for x in text_test]\n",
    "    data_trunc = vectorizer.transform(text_trunc)\n",
    "    f1.append(metrics.f1_score(test_pred, logreg.predict(data_trunc), average='macro'))\n",
    "    recall.append(metrics.recall_score(test_pred, logreg.predict(data_trunc), average='macro'))\n",
    "    prec.append(metrics.precision_score(test_pred, logreg.predict(data_trunc), average='macro'))"
   ]
  },
  {
   "cell_type": "markdown",
   "metadata": {},
   "source": [
    "Построим график зависимости точности, полноты и F-меры от количества символов в стимуле"
   ]
  },
  {
   "cell_type": "code",
   "execution_count": 478,
   "metadata": {},
   "outputs": [
    {
     "data": {
      "image/png": "[encoded data removed]",
      "text/plain": [
       "<matplotlib.figure.Figure at 0x23be3db39e8>"
      ]
     },
     "metadata": {},
     "output_type": "display_data"
    }
   ],
   "source": [
    "plt.figure(figsize=(14,7))\n",
    "plt.plot(lens, prec, 'g-', label='Precision', alpha=0.7)\n",
    "plt.plot(lens, recall, 'b-', label='Recall', alpha=0.7)\n",
    "plt.plot(lens, f1, 'y--', label='F-measure', alpha=0.7)\n",
    "plt.xlabel('Количество символов')\n",
    "plt.ylabel('Метрика')\n",
    "plt.xlim(0, 350)\n",
    "plt.ylim(0, 1.1)\n",
    "plt.title(('Зависимость качества классификации от длины текста'), fontsize=14, fontweight='bold')\n",
    "plt.legend()\n",
    "plt.show();"
   ]
  },
  {
   "cell_type": "markdown",
   "metadata": {},
   "source": [
    "## Разные языки"
   ]
  },
  {
   "cell_type": "code",
   "execution_count": 479,
   "metadata": {},
   "outputs": [
    {
     "name": "stdout",
     "output_type": "stream",
     "text": [
      "Wall time: 28.9 s\n"
     ]
    }
   ],
   "source": [
    "%%time\n",
    "%%capture\n",
    "f1_langs = []\n",
    "lens = list(range(2, 350))\n",
    "for i in lens:\n",
    "    text_trunc, data_trunc = [], []\n",
    "    text_trunc = [x[:i] for x in text_test]\n",
    "    data_trunc = vectorizer.transform(text_trunc)\n",
    "    f1_langs.append(metrics.f1_score(test_pred, logreg.predict(data_trunc), average=None))"
   ]
  },
  {
   "cell_type": "code",
   "execution_count": 480,
   "metadata": {},
   "outputs": [],
   "source": [
    "f1_res = {}\n",
    "for lang in langs:\n",
    "    f1_res[lang] = []\n",
    "    for i in f1_langs:\n",
    "        f1_res[lang].append(i[langs.index(lang)])"
   ]
  },
  {
   "cell_type": "code",
   "execution_count": 481,
   "metadata": {},
   "outputs": [
    {
     "data": {
      "image/png": "[encoded data removed]",
      "text/plain": [
       "<matplotlib.figure.Figure at 0x23be3ee6ef0>"
      ]
     },
     "metadata": {},
     "output_type": "display_data"
    }
   ],
   "source": [
    "plt.figure(figsize=(14,7))\n",
    "plt.xlabel('Количество символов')\n",
    "plt.ylabel('F-мера')\n",
    "plt.xlim(0, 350)\n",
    "plt.ylim(0, 1.1)\n",
    "\n",
    "for lang in langs:\n",
    "    plt.plot(lens, f1_res[lang], label=lang, alpha=0.7)\n",
    "\n",
    "plt.title(('Зависимость качества классификации от длины текста для разных языков'), \n",
    "          fontsize=14, fontweight='bold')\n",
    "plt.legend()\n",
    "plt.show();"
   ]
  },
  {
   "cell_type": "markdown",
   "metadata": {},
   "source": [
    "Из графика видно, что хуже всего на последовательностя малой длины идет распознавание испанского и португальского, что закономерно, так как из всей выборки эти языки являются максимально похожими."
   ]
  },
  {
   "cell_type": "markdown",
   "metadata": {},
   "source": [
    "Идеи\n",
    "- Сравнить классификаторы для разных длин текстов\n",
    "- Сравние разной длины н-грамм\n",
    "- Сравнить классификацию с удаленными диакритиками и без удаления"
   ]
  },
  {
   "cell_type": "markdown",
   "metadata": {},
   "source": [
    "## Разные длины н-грамм"
   ]
  },
  {
   "cell_type": "code",
   "execution_count": 482,
   "metadata": {},
   "outputs": [
    {
     "name": "stderr",
     "output_type": "stream",
     "text": [
      "  0%|                                                                                            | 0/7 [00:00<?, ?it/s]c:\\users\\mytas\\appdata\\local\\programs\\python\\python36\\lib\\site-packages\\sklearn\\metrics\\classification.py:1135: UndefinedMetricWarning: F-score is ill-defined and being set to 0.0 in labels with no predicted samples.\n",
      "  'precision', 'predicted', average, warn_for)\n",
      "100%|███████████████████████████████████████████████████████████████████████████████████| 7/7 [19:00<00:00, 162.93s/it]\n"
     ]
    },
    {
     "name": "stdout",
     "output_type": "stream",
     "text": [
      "Wall time: 19min\n"
     ]
    }
   ],
   "source": [
    "%%time\n",
    "ns = [1, 2, 3, 4, 5, 6, 7]\n",
    "lens = list(range(2, 900))\n",
    "\n",
    "f1_res = {}\n",
    "for n in tqdm(ns):\n",
    "    vectorizer_n = CountVectorizer(ngram_range=(n,n),\n",
    "                             lowercase=True,\n",
    "                             analyzer = 'char', \n",
    "                             min_df = 3, \n",
    "                             max_df = 1.0)\n",
    "    data_train = vectorizer_n.fit_transform(text_train)\n",
    "    logreg.fit(data_train, lang_train)\n",
    "    f1_res[n] = []\n",
    "    for i in lens:\n",
    "        text_trunc, data_trunc = [], []\n",
    "        text_trunc = [x[:i] for x in text_test]\n",
    "        data_trunc = vectorizer_n.transform(text_trunc)\n",
    "        f1_res[n].append(metrics.f1_score(test_pred, logreg.predict(data_trunc), average='macro'))"
   ]
  },
  {
   "cell_type": "code",
   "execution_count": 483,
   "metadata": {},
   "outputs": [
    {
     "data": {
      "image/png": "[encoded data removed]",
      "text/plain": [
       "<matplotlib.figure.Figure at 0x23be6150b70>"
      ]
     },
     "metadata": {},
     "output_type": "display_data"
    }
   ],
   "source": [
    "plt.figure(figsize=(14,8))\n",
    "plt.xlabel('Количество символов')\n",
    "plt.ylabel('F-мера')\n",
    "plt.xlim(0, 900)\n",
    "plt.ylim(0, 1.1)\n",
    "\n",
    "for n in ns:\n",
    "    plt.plot(lens, f1_res[n], label=n, alpha=0.7)\n",
    "\n",
    "plt.title(('Зависимость качества классификации от длины н-грамм'), \n",
    "          fontsize=14, fontweight='bold')\n",
    "plt.legend()\n",
    "plt.show();"
   ]
  },
  {
   "cell_type": "code",
   "execution_count": 488,
   "metadata": {},
   "outputs": [
    {
     "data": {
      "text/plain": [
       "0.91218679197038333"
      ]
     },
     "execution_count": 488,
     "metadata": {},
     "output_type": "execute_result"
    }
   ],
   "source": [
    "max(f1_res[1])"
   ]
  },
  {
   "cell_type": "markdown",
   "metadata": {},
   "source": [
    "Видим, что классификаторы, построенные на 3-, 4- и 5-граммах достигают максимальной точности определения языка при примерно одинаковой длине тектов, тогда как классификатор на биграммах достигает такой точности гораздо позже, а для классификатора на униграммах максимальное качество классификации составляет *F=0,966*. При этом видим, что дальнейшее увеличение окна не ведет к улучшению качества классификации, а использование н-грамм с большим n наоборот снижает его. "
   ]
  },
  {
   "cell_type": "code",
   "execution_count": null,
   "metadata": {},
   "outputs": [],
   "source": []
  }
 ],
 "metadata": {
  "kernelspec": {
   "display_name": "Python 3",
   "language": "python",
   "name": "python3"
  },
  "language_info": {
   "codemirror_mode": {
    "name": "ipython",
    "version": 3
   },
   "file_extension": ".py",
   "mimetype": "text/x-python",
   "name": "python",
   "nbconvert_exporter": "python",
   "pygments_lexer": "ipython3",
   "version": "3.6.2"
  }
 },
 "nbformat": 4,
 "nbformat_minor": 2
}
